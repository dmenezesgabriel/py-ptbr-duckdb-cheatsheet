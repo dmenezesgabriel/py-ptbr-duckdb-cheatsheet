{
 "cells": [
  {
   "cell_type": "markdown",
   "metadata": {},
   "source": [
    "### Recursos\n"
   ]
  },
  {
   "cell_type": "markdown",
   "metadata": {},
   "source": [
    "- https://public.tableau.com/app/learn/sample-data\n",
    "- https://github.com/plotly/datasets/tree/master\n",
    "- https://github.com/vega/vega-datasets/tree/main/data\n"
   ]
  },
  {
   "cell_type": "markdown",
   "metadata": {},
   "source": [
    "### Bibliotecas\n"
   ]
  },
  {
   "cell_type": "code",
   "execution_count": null,
   "metadata": {},
   "outputs": [],
   "source": [
    "import os\n",
    "import pathlib\n",
    "import duckdb\n",
    "import pandas as pd\n",
    "from urllib.request import urlretrieve\n",
    "\n",
    "\n",
    "# Display all columns\n",
    "pd.set_option('display.max_columns', None)\n",
    "# Display all characters inside a column cell\n",
    "pd.set_option(\"display.max_colwidth\", None)\n",
    "# Display all rows\n",
    "pd.set_option(\"display.max_rows\", None)\n",
    "# Display all intems in a nested list inside a column cell\n",
    "pd.set_option(\"display.max_seq_item\", None)\n",
    "\n",
    "# Enable create sql cells\n",
    "%load_ext sql"
   ]
  },
  {
   "cell_type": "code",
   "execution_count": null,
   "metadata": {},
   "outputs": [],
   "source": [
    "# Automatically convert sql query result to pandas dataframe\n",
    "%config SqlMagic.autopandas=True\n",
    "# Disable message feedback printend after executing SQL command\n",
    "%config SqlMagic.feedback=False\n",
    "# Disable connection string display, connection string may contain sensitive\n",
    "# information\n",
    "%config SqlMagic.displaycon=False\n",
    "# Enable named parameters\n",
    "%config SqlMagic.named_parameters=True"
   ]
  },
  {
   "cell_type": "markdown",
   "metadata": {},
   "source": [
    "### Conexão com o banco de dados\n"
   ]
  },
  {
   "cell_type": "code",
   "execution_count": null,
   "metadata": {},
   "outputs": [],
   "source": [
    "conn = duckdb.connect(database=\":memory:\", read_only=False)"
   ]
  },
  {
   "cell_type": "code",
   "execution_count": null,
   "metadata": {},
   "outputs": [],
   "source": [
    "%sql conn"
   ]
  },
  {
   "cell_type": "markdown",
   "metadata": {},
   "source": [
    "### Pastas para salvar os arquivos\n"
   ]
  },
  {
   "cell_type": "code",
   "execution_count": null,
   "metadata": {},
   "outputs": [],
   "source": [
    "# Create data folder if not exists\n",
    "directories = [\"data\", \"output\"]\n",
    "for directory in directories:\n",
    "    if not os.path.exists(directory):\n",
    "        os.makedirs(directory)"
   ]
  },
  {
   "cell_type": "markdown",
   "metadata": {},
   "source": [
    "### Download dos arquivos\n"
   ]
  },
  {
   "cell_type": "code",
   "execution_count": null,
   "metadata": {},
   "outputs": [],
   "source": [
    "datasets = [\n",
    "    {\n",
    "        \"url\":\"https://public.tableau.com/app/sample-data/sample_-_superstore.xls\",\n",
    "        \"file\": \"data/superstore.xls\"\n",
    "    },\n",
    "    {\n",
    "        \"url\": \"https://public.tableau.com/app/sample-data/netflix_titles.xlsx\",\n",
    "        \"file\": \"data/netflix_titles.xlsx\"\n",
    "    },\n",
    "    {\n",
    "        \"url\": \"https://public.tableau.com/app/sample-data/titanic%20passenger%20list.csv\",\n",
    "        \"file\": \"data/titanic_passenger_list.csv\"\n",
    "    },\n",
    "    {\n",
    "        \"url\": \"https://github.com/plotly/datasets/raw/master/2015_flights.parquet\",\n",
    "        \"file\": \"data/2015_flights.parquet\"\n",
    "    }\n",
    "]\n",
    "\n",
    "# Download datasets\n",
    "for dataset in datasets:\n",
    "    urlretrieve(dataset[\"url\"], dataset[\"file\"])"
   ]
  },
  {
   "cell_type": "markdown",
   "metadata": {},
   "source": [
    "### Carregando Basses de dados\n"
   ]
  },
  {
   "cell_type": "markdown",
   "metadata": {},
   "source": [
    "#### Pandas\n"
   ]
  },
  {
   "cell_type": "code",
   "execution_count": null,
   "metadata": {},
   "outputs": [],
   "source": [
    "# df = DataFrame\n",
    "# Superstore xls\n",
    "df_superstore_orders = pd.read_excel(\"data/superstore.xls\", sheet_name=\"Orders\")\n",
    "df_superstore_returns = pd.read_excel(\"data/superstore.xls\", sheet_name=\"Returns\")\n",
    "df_superstore_people = pd.read_excel(\"data/superstore.xls\", sheet_name=\"People\")\n",
    "# Netflix xlsx\n",
    "df_netflix_titles = pd.read_excel(\"data/netflix_titles.xlsx\", sheet_name=\"netflix_titles\")\n",
    "df_netflix_titles_directors = pd.read_excel(\"data/netflix_titles.xlsx\", sheet_name=\"netflix_titles_directors\")\n",
    "df_netflix_titles_countries = pd.read_excel(\"data/netflix_titles.xlsx\", sheet_name=\"netflix_titles_countries\")\n",
    "df_netflix_titles_cast = pd.read_excel(\"data/netflix_titles.xlsx\", sheet_name=\"netflix_titles_cast\")\n",
    "df_netflix_titles_cast = pd.read_excel(\"data/netflix_titles.xlsx\", sheet_name=\"netflix_titles_category\")\n",
    "# Titanic csv\n",
    "df_titanic = pd.read_csv(\"data/titanic_passenger_list.csv\")\n",
    "# Flights parquet\n",
    "df_flights = pd.read_parquet(\"data/2015_flights.parquet\")"
   ]
  },
  {
   "cell_type": "code",
   "execution_count": null,
   "metadata": {},
   "outputs": [],
   "source": [
    "df_superstore_orders.head(1)"
   ]
  },
  {
   "cell_type": "markdown",
   "metadata": {},
   "source": [
    "#### DuckDB\n"
   ]
  },
  {
   "cell_type": "code",
   "execution_count": null,
   "metadata": {},
   "outputs": [],
   "source": [
    "conn.execute(\n",
    "    \"\"\"\n",
    "    INSTALL spatial;\n",
    "    LOAD spatial;\n",
    "    \"\"\"\n",
    ")\n",
    "df_netflix = conn.execute(\n",
    "    \"\"\"\n",
    "    CREATE TABLE netflix_titles AS\n",
    "    SELECT *\n",
    "    FROM st_read('data/netflix_titles.xlsx', layer='netflix_titles')\n",
    "    \"\"\"\n",
    ")"
   ]
  }
 ],
 "metadata": {
  "kernelspec": {
   "display_name": "venv",
   "language": "python",
   "name": "python3"
  },
  "language_info": {
   "codemirror_mode": {
    "name": "ipython",
    "version": 3
   },
   "file_extension": ".py",
   "mimetype": "text/x-python",
   "name": "python",
   "nbconvert_exporter": "python",
   "pygments_lexer": "ipython3",
   "version": "3.9.2"
  }
 },
 "nbformat": 4,
 "nbformat_minor": 2
}
