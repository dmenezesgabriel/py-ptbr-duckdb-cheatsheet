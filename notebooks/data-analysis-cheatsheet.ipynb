{
 "cells": [
  {
   "cell_type": "markdown",
   "metadata": {},
   "source": [
    "### Recursos\n"
   ]
  },
  {
   "cell_type": "markdown",
   "metadata": {},
   "source": [
    "- https://public.tableau.com/app/learn/sample-data\n",
    "- https://github.com/plotly/datasets/tree/master\n",
    "- https://github.com/vega/vega-datasets/tree/main/data\n"
   ]
  },
  {
   "cell_type": "markdown",
   "metadata": {},
   "source": [
    "### Bibliotecas\n"
   ]
  },
  {
   "cell_type": "code",
   "execution_count": 1,
   "metadata": {},
   "outputs": [],
   "source": [
    "import os\n",
    "import pathlib\n",
    "import traceback\n",
    "import sys\n",
    "import duckdb\n",
    "import pandas as pd\n",
    "from urllib.request import urlretrieve\n",
    "\n",
    "\n",
    "# Display all columns\n",
    "pd.set_option('display.max_columns', None)\n",
    "# Display all characters inside a column cell\n",
    "pd.set_option(\"display.max_colwidth\", None)\n",
    "# Display all rows\n",
    "pd.set_option(\"display.max_rows\", None)\n",
    "# Display all intems in a nested list inside a column cell\n",
    "pd.set_option(\"display.max_seq_item\", None)\n",
    "\n",
    "# Enable create sql cells\n",
    "%load_ext sql"
   ]
  },
  {
   "cell_type": "code",
   "execution_count": 2,
   "metadata": {},
   "outputs": [],
   "source": [
    "# Automatically convert sql query result to pandas dataframe\n",
    "%config SqlMagic.autopandas=True\n",
    "# Disable message feedback printend after executing SQL command\n",
    "%config SqlMagic.feedback=False\n",
    "# Disable connection string display, connection string may contain sensitive\n",
    "# information\n",
    "%config SqlMagic.displaycon=False\n",
    "# Enable named parameters\n",
    "%config SqlMagic.named_parameters=True"
   ]
  },
  {
   "cell_type": "markdown",
   "metadata": {},
   "source": [
    "### Conexão com o banco de dados\n"
   ]
  },
  {
   "cell_type": "code",
   "execution_count": 3,
   "metadata": {},
   "outputs": [],
   "source": [
    "conn = duckdb.connect(database=\":memory:\", read_only=False)"
   ]
  },
  {
   "cell_type": "code",
   "execution_count": 4,
   "metadata": {},
   "outputs": [],
   "source": [
    "%sql conn"
   ]
  },
  {
   "cell_type": "markdown",
   "metadata": {},
   "source": [
    "### Pastas para salvar os arquivos\n"
   ]
  },
  {
   "cell_type": "code",
   "execution_count": 5,
   "metadata": {},
   "outputs": [],
   "source": [
    "# Create data folder if not exists\n",
    "directories = [\"data\", \"output\"]\n",
    "for directory in directories:\n",
    "    if not os.path.exists(directory):\n",
    "        os.makedirs(directory)"
   ]
  },
  {
   "cell_type": "markdown",
   "metadata": {},
   "source": [
    "### Download dos arquivos\n"
   ]
  },
  {
   "cell_type": "code",
   "execution_count": 6,
   "metadata": {},
   "outputs": [],
   "source": [
    "datasets = [\n",
    "    {\n",
    "        \"url\":\"https://public.tableau.com/app/sample-data/sample_-_superstore.xls\",\n",
    "        \"file\": \"data/superstore.xls\"\n",
    "    },\n",
    "    {\n",
    "        \"url\": \"https://public.tableau.com/app/sample-data/netflix_titles.xlsx\",\n",
    "        \"file\": \"data/netflix_titles.xlsx\"\n",
    "    },\n",
    "    {\n",
    "        \"url\": \"https://public.tableau.com/app/sample-data/titanic%20passenger%20list.csv\",\n",
    "        \"file\": \"data/titanic_passenger_list.csv\"\n",
    "    },\n",
    "    {\n",
    "        \"url\": \"https://github.com/plotly/datasets/raw/master/2015_flights.parquet\",\n",
    "        \"file\": \"data/2015_flights.parquet\"\n",
    "    }\n",
    "]\n",
    "\n",
    "# Download datasets\n",
    "for dataset in datasets:\n",
    "    urlretrieve(dataset[\"url\"], dataset[\"file\"])"
   ]
  },
  {
   "cell_type": "markdown",
   "metadata": {},
   "source": [
    "### Carregando Basses de dados\n"
   ]
  },
  {
   "cell_type": "markdown",
   "metadata": {},
   "source": [
    "#### Pandas\n"
   ]
  },
  {
   "cell_type": "code",
   "execution_count": 7,
   "metadata": {},
   "outputs": [],
   "source": [
    "# df = DataFrame\n",
    "# Superstore xls\n",
    "df_superstore_orders = pd.read_excel(\"data/superstore.xls\", sheet_name=\"Orders\")\n",
    "df_superstore_returns = pd.read_excel(\"data/superstore.xls\", sheet_name=\"Returns\")\n",
    "df_superstore_people = pd.read_excel(\"data/superstore.xls\", sheet_name=\"People\")\n",
    "# Netflix xlsx\n",
    "df_netflix_titles = pd.read_excel(\"data/netflix_titles.xlsx\", sheet_name=\"netflix_titles\")\n",
    "df_netflix_titles_directors = pd.read_excel(\"data/netflix_titles.xlsx\", sheet_name=\"netflix_titles_directors\")\n",
    "df_netflix_titles_countries = pd.read_excel(\"data/netflix_titles.xlsx\", sheet_name=\"netflix_titles_countries\")\n",
    "df_netflix_titles_cast = pd.read_excel(\"data/netflix_titles.xlsx\", sheet_name=\"netflix_titles_cast\")\n",
    "df_netflix_titles_category = pd.read_excel(\"data/netflix_titles.xlsx\", sheet_name=\"netflix_titles_category\")\n",
    "# Titanic csv\n",
    "df_titanic = pd.read_csv(\"data/titanic_passenger_list.csv\")\n",
    "# Flights parquet\n",
    "df_flights = pd.read_parquet(\"data/2015_flights.parquet\")"
   ]
  },
  {
   "cell_type": "code",
   "execution_count": 8,
   "metadata": {},
   "outputs": [
    {
     "data": {
      "text/html": [
       "<div>\n",
       "<style scoped>\n",
       "    .dataframe tbody tr th:only-of-type {\n",
       "        vertical-align: middle;\n",
       "    }\n",
       "\n",
       "    .dataframe tbody tr th {\n",
       "        vertical-align: top;\n",
       "    }\n",
       "\n",
       "    .dataframe thead th {\n",
       "        text-align: right;\n",
       "    }\n",
       "</style>\n",
       "<table border=\"1\" class=\"dataframe\">\n",
       "  <thead>\n",
       "    <tr style=\"text-align: right;\">\n",
       "      <th></th>\n",
       "      <th>Row ID</th>\n",
       "      <th>Order ID</th>\n",
       "      <th>Order Date</th>\n",
       "      <th>Ship Date</th>\n",
       "      <th>Ship Mode</th>\n",
       "      <th>Customer ID</th>\n",
       "      <th>Customer Name</th>\n",
       "      <th>Segment</th>\n",
       "      <th>Country</th>\n",
       "      <th>City</th>\n",
       "      <th>State</th>\n",
       "      <th>Postal Code</th>\n",
       "      <th>Region</th>\n",
       "      <th>Product ID</th>\n",
       "      <th>Category</th>\n",
       "      <th>Sub-Category</th>\n",
       "      <th>Product Name</th>\n",
       "      <th>Sales</th>\n",
       "      <th>Quantity</th>\n",
       "      <th>Discount</th>\n",
       "      <th>Profit</th>\n",
       "    </tr>\n",
       "  </thead>\n",
       "  <tbody>\n",
       "    <tr>\n",
       "      <th>0</th>\n",
       "      <td>1</td>\n",
       "      <td>CA-2016-152156</td>\n",
       "      <td>2016-11-08</td>\n",
       "      <td>2016-11-11</td>\n",
       "      <td>Second Class</td>\n",
       "      <td>CG-12520</td>\n",
       "      <td>Claire Gute</td>\n",
       "      <td>Consumer</td>\n",
       "      <td>United States</td>\n",
       "      <td>Henderson</td>\n",
       "      <td>Kentucky</td>\n",
       "      <td>42420</td>\n",
       "      <td>South</td>\n",
       "      <td>FUR-BO-10001798</td>\n",
       "      <td>Furniture</td>\n",
       "      <td>Bookcases</td>\n",
       "      <td>Bush Somerset Collection Bookcase</td>\n",
       "      <td>261.96</td>\n",
       "      <td>2</td>\n",
       "      <td>0.0</td>\n",
       "      <td>41.9136</td>\n",
       "    </tr>\n",
       "  </tbody>\n",
       "</table>\n",
       "</div>"
      ],
      "text/plain": [
       "   Row ID        Order ID Order Date  Ship Date     Ship Mode Customer ID  \\\n",
       "0       1  CA-2016-152156 2016-11-08 2016-11-11  Second Class    CG-12520   \n",
       "\n",
       "  Customer Name   Segment        Country       City     State  Postal Code  \\\n",
       "0   Claire Gute  Consumer  United States  Henderson  Kentucky        42420   \n",
       "\n",
       "  Region       Product ID   Category Sub-Category  \\\n",
       "0  South  FUR-BO-10001798  Furniture    Bookcases   \n",
       "\n",
       "                        Product Name   Sales  Quantity  Discount   Profit  \n",
       "0  Bush Somerset Collection Bookcase  261.96         2       0.0  41.9136  "
      ]
     },
     "execution_count": 8,
     "metadata": {},
     "output_type": "execute_result"
    }
   ],
   "source": [
    "df_superstore_orders.head(1)"
   ]
  },
  {
   "cell_type": "code",
   "execution_count": 9,
   "metadata": {},
   "outputs": [
    {
     "name": "stdout",
     "output_type": "stream",
     "text": [
      "<class 'pandas.core.frame.DataFrame'>\n",
      "RangeIndex: 9994 entries, 0 to 9993\n",
      "Data columns (total 21 columns):\n",
      " #   Column         Non-Null Count  Dtype         \n",
      "---  ------         --------------  -----         \n",
      " 0   Row ID         9994 non-null   int64         \n",
      " 1   Order ID       9994 non-null   object        \n",
      " 2   Order Date     9994 non-null   datetime64[ns]\n",
      " 3   Ship Date      9994 non-null   datetime64[ns]\n",
      " 4   Ship Mode      9994 non-null   object        \n",
      " 5   Customer ID    9994 non-null   object        \n",
      " 6   Customer Name  9994 non-null   object        \n",
      " 7   Segment        9994 non-null   object        \n",
      " 8   Country        9994 non-null   object        \n",
      " 9   City           9994 non-null   object        \n",
      " 10  State          9994 non-null   object        \n",
      " 11  Postal Code    9994 non-null   int64         \n",
      " 12  Region         9994 non-null   object        \n",
      " 13  Product ID     9994 non-null   object        \n",
      " 14  Category       9994 non-null   object        \n",
      " 15  Sub-Category   9994 non-null   object        \n",
      " 16  Product Name   9994 non-null   object        \n",
      " 17  Sales          9994 non-null   float64       \n",
      " 18  Quantity       9994 non-null   int64         \n",
      " 19  Discount       9994 non-null   float64       \n",
      " 20  Profit         9994 non-null   float64       \n",
      "dtypes: datetime64[ns](2), float64(3), int64(3), object(13)\n",
      "memory usage: 1.6+ MB\n"
     ]
    }
   ],
   "source": [
    "df_superstore_orders.info()"
   ]
  },
  {
   "cell_type": "markdown",
   "metadata": {},
   "source": [
    "#### DuckDB\n"
   ]
  },
  {
   "cell_type": "code",
   "execution_count": 10,
   "metadata": {},
   "outputs": [
    {
     "name": "stderr",
     "output_type": "stream",
     "text": [
      "ERROR 4: `data/superstore.xls' not recognized as a supported file format.\n"
     ]
    },
    {
     "name": "stdout",
     "output_type": "stream",
     "text": [
      "IO Error: Could not open file: data/superstore.xls (`data/superstore.xls' not recognized as a supported file format.)\n"
     ]
    },
    {
     "data": {
      "text/plain": [
       "<duckdb.DuckDBPyConnection at 0x7e6a8b4125b0>"
      ]
     },
     "execution_count": 10,
     "metadata": {},
     "output_type": "execute_result"
    }
   ],
   "source": [
    "conn.execute(\n",
    "    \"\"\"\n",
    "    INSTALL spatial;\n",
    "    LOAD spatial;\n",
    "    \"\"\"\n",
    ")\n",
    "\n",
    "try:\n",
    "    conn.execute(\n",
    "        \"\"\"\n",
    "        CREATE TABLE IF NOT EXISTS superstore_orders AS\n",
    "        SELECT *\n",
    "        FROM st_read('data/superstore.xls', layer='Orders')\n",
    "        \"\"\"\n",
    "    )\n",
    "except Exception as error:\n",
    "    print(error)\n",
    "\n",
    "\n",
    "conn.execute(\n",
    "    \"\"\"\n",
    "    CREATE TABLE IF NOT EXISTS netflix_titles AS\n",
    "    SELECT *\n",
    "    FROM st_read('data/netflix_titles.xlsx', layer='netflix_titles')\n",
    "    \"\"\"\n",
    ")\n",
    "\n",
    "conn.execute(\"DROP TABLE IF EXISTS netflix_titles\")"
   ]
  },
  {
   "cell_type": "markdown",
   "metadata": {},
   "source": [
    "O DuckDB ainda é muito recente então não possui determinadas funcionalidades (11/2023).\n",
    "\n",
    "- Especificar o tipo de codificação do arquivo (encoding). Ex: encoding='latin1' (português do Brasil)\n",
    "- Carregar arquivos .xls\n",
    "\n",
    "Podemos carregar os dados que se enquadram nestas limitações com o Pandas e depois converter para DuckDB.\n"
   ]
  },
  {
   "cell_type": "code",
   "execution_count": 11,
   "metadata": {},
   "outputs": [
    {
     "data": {
      "text/html": [
       "<div>\n",
       "<style scoped>\n",
       "    .dataframe tbody tr th:only-of-type {\n",
       "        vertical-align: middle;\n",
       "    }\n",
       "\n",
       "    .dataframe tbody tr th {\n",
       "        vertical-align: top;\n",
       "    }\n",
       "\n",
       "    .dataframe thead th {\n",
       "        text-align: right;\n",
       "    }\n",
       "</style>\n",
       "<table border=\"1\" class=\"dataframe\">\n",
       "  <thead>\n",
       "    <tr style=\"text-align: right;\">\n",
       "      <th></th>\n",
       "      <th>Count</th>\n",
       "    </tr>\n",
       "  </thead>\n",
       "  <tbody>\n",
       "    <tr>\n",
       "      <th>0</th>\n",
       "      <td>4</td>\n",
       "    </tr>\n",
       "  </tbody>\n",
       "</table>\n",
       "</div>"
      ],
      "text/plain": [
       "   Count\n",
       "0      4"
      ]
     },
     "execution_count": 11,
     "metadata": {},
     "output_type": "execute_result"
    }
   ],
   "source": [
    "%%sql\n",
    "CREATE TABLE IF NOT EXISTS superstore_orders AS SELECT * FROM df_superstore_orders;\n",
    "CREATE TABLE IF NOT EXISTS superstore_returns AS SELECT * FROM df_superstore_returns;\n",
    "CREATE TABLE IF NOT EXISTS superstore_people AS SELECT * FROM df_superstore_people;"
   ]
  },
  {
   "cell_type": "code",
   "execution_count": 12,
   "metadata": {},
   "outputs": [],
   "source": [
    "def full_text_search(df, search_value):\n",
    "    for column in df.columns:\n",
    "        for index, row in df.iterrows():\n",
    "            row_value = row[column]\n",
    "            if isinstance(row_value, str) and search_value in row_value:\n",
    "                return f'Found \"{search_value}\" in column \"{column}\" at index {index}'\n",
    "\n",
    "    return f'\"{search_value}\" not found in any column'"
   ]
  },
  {
   "cell_type": "code",
   "execution_count": 13,
   "metadata": {},
   "outputs": [
    {
     "data": {
      "text/plain": [
       "'Found \"Flying Fortress\" in column \"duration_minutes\" at index 2018'"
      ]
     },
     "execution_count": 13,
     "metadata": {},
     "output_type": "execute_result"
    }
   ],
   "source": [
    "full_text_search(df_netflix_titles, \"Flying Fortress\")"
   ]
  },
  {
   "cell_type": "code",
   "execution_count": 14,
   "metadata": {},
   "outputs": [],
   "source": [
    "df_netflix_titles.iloc[2018]\n",
    "df_netflix_titles.drop(2018, inplace=True)"
   ]
  },
  {
   "cell_type": "code",
   "execution_count": 15,
   "metadata": {},
   "outputs": [
    {
     "data": {
      "text/html": [
       "<div>\n",
       "<style scoped>\n",
       "    .dataframe tbody tr th:only-of-type {\n",
       "        vertical-align: middle;\n",
       "    }\n",
       "\n",
       "    .dataframe tbody tr th {\n",
       "        vertical-align: top;\n",
       "    }\n",
       "\n",
       "    .dataframe thead th {\n",
       "        text-align: right;\n",
       "    }\n",
       "</style>\n",
       "<table border=\"1\" class=\"dataframe\">\n",
       "  <thead>\n",
       "    <tr style=\"text-align: right;\">\n",
       "      <th></th>\n",
       "      <th>Count</th>\n",
       "    </tr>\n",
       "  </thead>\n",
       "  <tbody>\n",
       "    <tr>\n",
       "      <th>0</th>\n",
       "      <td>13670</td>\n",
       "    </tr>\n",
       "  </tbody>\n",
       "</table>\n",
       "</div>"
      ],
      "text/plain": [
       "   Count\n",
       "0  13670"
      ]
     },
     "execution_count": 15,
     "metadata": {},
     "output_type": "execute_result"
    }
   ],
   "source": [
    "%%sql\n",
    "CREATE TABLE IF NOT EXISTS netflix_titles AS SELECT * FROM df_netflix_titles;\n",
    "CREATE TABLE IF NOT EXISTS netflix_titles_directors AS SELECT * FROM df_netflix_titles_directors;\n",
    "CREATE TABLE IF NOT EXISTS netflix_titles_countries AS SELECT * FROM df_netflix_titles_countries;\n",
    "CREATE TABLE IF NOT EXISTS netflix_titles_cast AS SELECT * FROM df_netflix_titles_cast;\n",
    "CREATE TABLE IF NOT EXISTS netflix_titles_category AS SELECT * FROM df_netflix_titles_category;\n"
   ]
  }
 ],
 "metadata": {
  "kernelspec": {
   "display_name": "venv",
   "language": "python",
   "name": "python3"
  },
  "language_info": {
   "codemirror_mode": {
    "name": "ipython",
    "version": 3
   },
   "file_extension": ".py",
   "mimetype": "text/x-python",
   "name": "python",
   "nbconvert_exporter": "python",
   "pygments_lexer": "ipython3",
   "version": "3.9.2"
  }
 },
 "nbformat": 4,
 "nbformat_minor": 2
}
