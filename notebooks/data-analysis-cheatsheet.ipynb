{
 "cells": [
  {
   "cell_type": "markdown",
   "metadata": {},
   "source": [
    "### Recursos\n"
   ]
  },
  {
   "cell_type": "markdown",
   "metadata": {},
   "source": [
    "- https://public.tableau.com/app/learn/sample-data\n",
    "- https://github.com/plotly/datasets/tree/master\n",
    "- https://github.com/vega/vega-datasets/tree/main/data\n"
   ]
  },
  {
   "cell_type": "markdown",
   "metadata": {},
   "source": [
    "### Bibliotecas\n"
   ]
  },
  {
   "cell_type": "code",
   "execution_count": null,
   "metadata": {},
   "outputs": [],
   "source": [
    "import os\n",
    "import pathlib\n",
    "import traceback\n",
    "import sys\n",
    "import duckdb\n",
    "import pandas as pd\n",
    "import plotly.express as px\n",
    "from urllib.request import urlretrieve\n",
    "\n",
    "\n",
    "# Display all columns\n",
    "pd.set_option('display.max_columns', None)\n",
    "# Display all characters inside a column cell\n",
    "pd.set_option(\"display.max_colwidth\", None)\n",
    "# Display all rows\n",
    "pd.set_option(\"display.max_rows\", None)\n",
    "# Display all intems in a nested list inside a column cell\n",
    "pd.set_option(\"display.max_seq_item\", None)\n",
    "\n",
    "# Enable create sql cells\n",
    "%load_ext sql"
   ]
  },
  {
   "cell_type": "code",
   "execution_count": null,
   "metadata": {},
   "outputs": [],
   "source": [
    "# Automatically convert sql query result to pandas dataframe\n",
    "%config SqlMagic.autopandas=True\n",
    "# Disable message feedback printend after executing SQL command\n",
    "%config SqlMagic.feedback=False\n",
    "# Disable connection string display, connection string may contain sensitive\n",
    "# information\n",
    "%config SqlMagic.displaycon=False\n",
    "# Enable named parameters\n",
    "%config SqlMagic.named_parameters=True"
   ]
  },
  {
   "cell_type": "markdown",
   "metadata": {},
   "source": [
    "### Conexão com o banco de dados\n"
   ]
  },
  {
   "cell_type": "code",
   "execution_count": null,
   "metadata": {},
   "outputs": [],
   "source": [
    "conn = duckdb.connect(database=\":memory:\", read_only=False)"
   ]
  },
  {
   "cell_type": "code",
   "execution_count": null,
   "metadata": {},
   "outputs": [],
   "source": [
    "%sql conn"
   ]
  },
  {
   "cell_type": "markdown",
   "metadata": {},
   "source": [
    "### Pastas para salvar os arquivos\n"
   ]
  },
  {
   "cell_type": "code",
   "execution_count": null,
   "metadata": {},
   "outputs": [],
   "source": [
    "# Create data folder if not exists\n",
    "directories = [\"data\", \"output\"]\n",
    "for directory in directories:\n",
    "    if not os.path.exists(directory):\n",
    "        os.makedirs(directory)"
   ]
  },
  {
   "cell_type": "markdown",
   "metadata": {},
   "source": [
    "### Download dos arquivos\n"
   ]
  },
  {
   "cell_type": "code",
   "execution_count": null,
   "metadata": {},
   "outputs": [],
   "source": [
    "datasets = [\n",
    "    {\n",
    "        \"url\":\"https://public.tableau.com/app/sample-data/sample_-_superstore.xls\",\n",
    "        \"file\": \"data/superstore.xls\"\n",
    "    },\n",
    "    {\n",
    "        \"url\": \"https://public.tableau.com/app/sample-data/netflix_titles.xlsx\",\n",
    "        \"file\": \"data/netflix_titles.xlsx\"\n",
    "    },\n",
    "    {\n",
    "        \"url\": \"https://public.tableau.com/app/sample-data/titanic%20passenger%20list.csv\",\n",
    "        \"file\": \"data/titanic_passenger_list.csv\"\n",
    "    },\n",
    "    {\n",
    "        \"url\": \"https://github.com/plotly/datasets/raw/master/2015_flights.parquet\",\n",
    "        \"file\": \"data/2015_flights.parquet\"\n",
    "    }\n",
    "]\n",
    "\n",
    "# Download datasets\n",
    "for dataset in datasets:\n",
    "    urlretrieve(dataset[\"url\"], dataset[\"file\"])"
   ]
  },
  {
   "cell_type": "markdown",
   "metadata": {},
   "source": [
    "### Ler bases de dados\n"
   ]
  },
  {
   "cell_type": "markdown",
   "metadata": {},
   "source": [
    "#### Pandas\n"
   ]
  },
  {
   "cell_type": "code",
   "execution_count": null,
   "metadata": {},
   "outputs": [],
   "source": [
    "# df = DataFrame\n",
    "# Superstore xls\n",
    "# https://pandas.pydata.org/docs/reference/api/pandas.read_excel.html\n",
    "df_superstore_orders = pd.read_excel(\"data/superstore.xls\", sheet_name=\"Orders\")\n",
    "df_superstore_returns = pd.read_excel(\"data/superstore.xls\", sheet_name=\"Returns\")\n",
    "df_superstore_people = pd.read_excel(\"data/superstore.xls\", sheet_name=\"People\")\n",
    "# Netflix xlsx\n",
    "# https://pandas.pydata.org/docs/reference/api/pandas.read_excel.html\n",
    "df_netflix_titles = pd.read_excel(\"data/netflix_titles.xlsx\", sheet_name=\"netflix_titles\")\n",
    "df_netflix_titles_directors = pd.read_excel(\"data/netflix_titles.xlsx\", sheet_name=\"netflix_titles_directors\")\n",
    "df_netflix_titles_countries = pd.read_excel(\"data/netflix_titles.xlsx\", sheet_name=\"netflix_titles_countries\")\n",
    "df_netflix_titles_cast = pd.read_excel(\"data/netflix_titles.xlsx\", sheet_name=\"netflix_titles_cast\")\n",
    "df_netflix_titles_category = pd.read_excel(\"data/netflix_titles.xlsx\", sheet_name=\"netflix_titles_category\")\n",
    "# Titanic csv\n",
    "# https://pandas.pydata.org/docs/reference/api/pandas.read_csv.html\n",
    "df_titanic = pd.read_csv(\"data/titanic_passenger_list.csv\")\n",
    "# Flights parquet\n",
    "# https://pandas.pydata.org/docs/reference/api/pandas.read_parquet.html\n",
    "df_flights = pd.read_parquet(\"data/2015_flights.parquet\")"
   ]
  },
  {
   "cell_type": "code",
   "execution_count": null,
   "metadata": {},
   "outputs": [],
   "source": [
    "df_superstore_orders.head(1)"
   ]
  },
  {
   "cell_type": "markdown",
   "metadata": {},
   "source": [
    "#### DuckDB\n"
   ]
  },
  {
   "cell_type": "code",
   "execution_count": null,
   "metadata": {},
   "outputs": [],
   "source": [
    "# https://duckdb.org/docs/guides/python/execute_sql.html\n",
    "conn.execute(\n",
    "    \"\"\"\n",
    "    INSTALL spatial;\n",
    "    LOAD spatial;\n",
    "    \"\"\"\n",
    ")\n",
    "\n",
    "try:\n",
    "    conn.execute(\n",
    "        \"\"\"\n",
    "        CREATE TABLE IF NOT EXISTS superstore_orders AS\n",
    "        SELECT *\n",
    "        FROM st_read('data/superstore.xls', layer='Orders')\n",
    "        \"\"\"\n",
    "    )\n",
    "except Exception as error:\n",
    "    print(error)\n",
    "\n",
    "\n",
    "conn.execute(\n",
    "    \"\"\"\n",
    "    CREATE TABLE IF NOT EXISTS netflix_titles AS\n",
    "    SELECT *\n",
    "    FROM st_read('data/netflix_titles.xlsx', layer='netflix_titles')\n",
    "    \"\"\"\n",
    ")\n",
    "\n",
    "conn.execute(\"DROP TABLE IF EXISTS netflix_titles\")"
   ]
  },
  {
   "cell_type": "markdown",
   "metadata": {},
   "source": [
    "O DuckDB ainda é muito recente então não possui determinadas funcionalidades (11/2023).\n",
    "\n",
    "- Especificar o tipo de codificação do arquivo (encoding). Ex: encoding='latin1' (português do Brasil)\n",
    "- Carregar arquivos .xls\n",
    "\n",
    "Podemos carregar os dados que se enquadram nestas limitações com o Pandas e depois converter para DuckDB.\n"
   ]
  },
  {
   "cell_type": "code",
   "execution_count": null,
   "metadata": {},
   "outputs": [],
   "source": [
    "%%sql\n",
    "CREATE TABLE IF NOT EXISTS superstore_orders AS SELECT * FROM df_superstore_orders;\n",
    "CREATE TABLE IF NOT EXISTS superstore_returns AS SELECT * FROM df_superstore_returns;\n",
    "CREATE TABLE IF NOT EXISTS superstore_people AS SELECT * FROM df_superstore_people;"
   ]
  },
  {
   "cell_type": "code",
   "execution_count": null,
   "metadata": {},
   "outputs": [],
   "source": [
    "%%sql\n",
    "SELECT * FROM superstore_orders LIMIT 1;"
   ]
  },
  {
   "cell_type": "code",
   "execution_count": null,
   "metadata": {},
   "outputs": [],
   "source": [
    "# https://pandas.pydata.org/docs/reference/api/pandas.DataFrame.iterrows.html\n",
    "def full_text_search(df: pd.DataFrame, search_value: str) -> str:\n",
    "    \"\"\"\n",
    "    Search for a value in all columns of a dataframe\n",
    "    :param df: Dataframe to search\n",
    "    :param search_value: Value to search\n",
    "    :return: String with the search result\n",
    "    \"\"\"\n",
    "    for column in df.columns:\n",
    "        for index, row in df.iterrows():\n",
    "            row_value = row[column]\n",
    "            if isinstance(row_value, str) and search_value in row_value:\n",
    "                return f'Found \"{search_value}\" in column \"{column}\" at index {index}'\n",
    "\n",
    "    return f'\"{search_value}\" not found in any column'"
   ]
  },
  {
   "cell_type": "code",
   "execution_count": null,
   "metadata": {},
   "outputs": [],
   "source": [
    "full_text_search(df_netflix_titles, \"Flying Fortress\")"
   ]
  },
  {
   "cell_type": "code",
   "execution_count": null,
   "metadata": {},
   "outputs": [],
   "source": [
    "# https://pandas.pydata.org/docs/reference/api/pandas.DataFrame.iloc.html\n",
    "df_netflix_titles.iloc[2018]"
   ]
  },
  {
   "cell_type": "code",
   "execution_count": null,
   "metadata": {},
   "outputs": [],
   "source": [
    "# https://pandas.pydata.org/docs/reference/api/pandas.DataFrame.drop.html\n",
    "df_netflix_titles.drop(2018, inplace=True)"
   ]
  },
  {
   "cell_type": "code",
   "execution_count": null,
   "metadata": {},
   "outputs": [],
   "source": [
    "%%sql\n",
    "CREATE TABLE IF NOT EXISTS netflix_titles AS SELECT * FROM df_netflix_titles;\n",
    "CREATE TABLE IF NOT EXISTS netflix_titles_directors AS SELECT * FROM df_netflix_titles_directors;\n",
    "CREATE TABLE IF NOT EXISTS netflix_titles_countries AS SELECT * FROM df_netflix_titles_countries;\n",
    "CREATE TABLE IF NOT EXISTS netflix_titles_cast AS SELECT * FROM df_netflix_titles_cast;\n",
    "CREATE TABLE IF NOT EXISTS netflix_titles_category AS SELECT * FROM df_netflix_titles_category;\n"
   ]
  },
  {
   "cell_type": "markdown",
   "metadata": {},
   "source": [
    "### Operações\n"
   ]
  },
  {
   "cell_type": "markdown",
   "metadata": {},
   "source": [
    "#### Pandas\n"
   ]
  },
  {
   "cell_type": "markdown",
   "metadata": {},
   "source": [
    "##### Exploração\n"
   ]
  },
  {
   "cell_type": "code",
   "execution_count": null,
   "metadata": {},
   "outputs": [],
   "source": [
    "# Number of rows\n",
    "# https://pandas.pydata.org/docs/reference/api/pandas.DataFrame.shape.html\n",
    "df_superstore_orders.shape[0]"
   ]
  },
  {
   "cell_type": "code",
   "execution_count": null,
   "metadata": {},
   "outputs": [],
   "source": [
    "# Number of columns\n",
    "# https://pandas.pydata.org/docs/reference/api/pandas.DataFrame.shape.html\n",
    "df_superstore_orders.shape[1]"
   ]
  },
  {
   "cell_type": "code",
   "execution_count": null,
   "metadata": {},
   "outputs": [],
   "source": [
    "# Statistics\n",
    "# https://pandas.pydata.org/docs/reference/api/pandas.DataFrame.describe.html\n",
    "df_superstore_orders.describe()"
   ]
  },
  {
   "cell_type": "code",
   "execution_count": null,
   "metadata": {},
   "outputs": [],
   "source": [
    "# https://pandas.pydata.org/docs/reference/api/pandas.DataFrame.columns.html\n",
    "df_superstore_orders.columns"
   ]
  },
  {
   "cell_type": "code",
   "execution_count": null,
   "metadata": {},
   "outputs": [],
   "source": [
    "# https://pandas.pydata.org/docs/reference/api/pandas.DataFrame.head.html\n",
    "df_superstore_orders.head(1)"
   ]
  },
  {
   "cell_type": "code",
   "execution_count": null,
   "metadata": {},
   "outputs": [],
   "source": [
    "# https://pandas.pydata.org/docs/reference/api/pandas.DataFrame.columns.html\n",
    "df_superstore_orders.columns"
   ]
  },
  {
   "cell_type": "code",
   "execution_count": null,
   "metadata": {},
   "outputs": [],
   "source": [
    "# https://pandas.pydata.org/docs/reference/api/pandas.unique.html\n",
    "df_superstore_orders[\"Segment\"].unique()"
   ]
  },
  {
   "cell_type": "code",
   "execution_count": null,
   "metadata": {},
   "outputs": [],
   "source": [
    "# https://pandas.pydata.org/docs/reference/api/pandas.DataFrame.nunique.html\n",
    "df_superstore_orders[\"Segment\"].nunique()"
   ]
  },
  {
   "cell_type": "code",
   "execution_count": null,
   "metadata": {},
   "outputs": [],
   "source": [
    "# https://pandas.pydata.org/docs/reference/api/pandas.DataFrame.head.html\n",
    "df_superstore_people.head(1)"
   ]
  },
  {
   "cell_type": "code",
   "execution_count": null,
   "metadata": {},
   "outputs": [],
   "source": [
    "# https://pandas.pydata.org/docs/reference/api/pandas.DataFrame.head.html\n",
    "df_superstore_returns.head(1)"
   ]
  },
  {
   "cell_type": "markdown",
   "metadata": {},
   "source": [
    "##### Juntar bases\n"
   ]
  },
  {
   "cell_type": "code",
   "execution_count": null,
   "metadata": {},
   "outputs": [],
   "source": [
    "# https://pandas.pydata.org/docs/reference/api/pandas.DataFrame.merge.html\n",
    "df_superstore_orders_and_returns = df_superstore_orders.merge(df_superstore_returns, how=\"left\", on=\"Order ID\")\n",
    "df_superstore_orders_and_returns.head(1)"
   ]
  },
  {
   "cell_type": "code",
   "execution_count": null,
   "metadata": {},
   "outputs": [],
   "source": [
    "# https://pandas.pydata.org/docs/reference/api/pandas.DataFrame.columns.html\n",
    "df_superstore_orders_and_returns.columns"
   ]
  },
  {
   "cell_type": "markdown",
   "metadata": {},
   "source": [
    "##### Selecionar colunas especificas\n"
   ]
  },
  {
   "cell_type": "code",
   "execution_count": null,
   "metadata": {},
   "outputs": [],
   "source": [
    "df_superstore_orders_and_returns[[\n",
    "    \"Order ID\",\n",
    "    \"Order Date\",\n",
    "    \"Customer Name\",\n",
    "    \"Segment\",\n",
    "    \"Product ID\",\n",
    "    \"Product Name\",\n",
    "    \"Quantity\",\n",
    "    \"Sales\",\n",
    "    \"Profit\",\n",
    "    \"Returned\"\n",
    "]].head(1)\n"
   ]
  },
  {
   "cell_type": "markdown",
   "metadata": {},
   "source": [
    "##### Filtrar\n"
   ]
  },
  {
   "cell_type": "code",
   "execution_count": null,
   "metadata": {},
   "outputs": [],
   "source": [
    "# & = and\n",
    "# | = or\n",
    "# https://pandas.pydata.org/docs/reference/api/pandas.DataFrame.loc.html\n",
    "# Rule: Profit > 3000 and Region == South\n",
    "filter_rule = (\n",
    "    (df_superstore_orders_and_returns[\"Profit\"] > 3000) &\n",
    "    (df_superstore_orders_and_returns[\"Region\"] == \"South\")\n",
    ")\n",
    "# Apply rule\n",
    "df_superstore_orders_and_returns.loc[filter_rule]"
   ]
  },
  {
   "cell_type": "markdown",
   "metadata": {},
   "source": [
    "##### Condicionais\n"
   ]
  },
  {
   "cell_type": "code",
   "execution_count": null,
   "metadata": {},
   "outputs": [],
   "source": [
    "# Rule: Profit > 3000 and Region == South\n",
    "filter_rule = (\n",
    "    (df_superstore_orders_and_returns[\"Profit\"] > 3000) &\n",
    "    (df_superstore_orders_and_returns[\"Region\"] == \"South\")\n",
    ")\n",
    "# Apply rule\n",
    "df_superstore_orders_and_returns.loc[filter_rule, \"Returned\"] = \"Yes\"\n",
    "# Check if rule was applied\n",
    "df_superstore_orders_and_returns.loc[filter_rule]"
   ]
  },
  {
   "cell_type": "markdown",
   "metadata": {},
   "source": [
    "##### Agrupar por categoria\n"
   ]
  },
  {
   "cell_type": "code",
   "execution_count": null,
   "metadata": {},
   "outputs": [],
   "source": [
    "# https://pandas.pydata.org/docs/reference/api/pandas.DataFrame.groupby.html\n",
    "df_superstore_orders_and_returns_metrics = (\n",
    "    df_superstore_orders_and_returns.groupby(['Category'])\n",
    "    .agg({'Profit': 'sum', 'Sales': 'sum', 'Quantity': 'sum', 'Discount': 'sum',})\n",
    "    .sort_values(by='Profit', ascending=False)\n",
    ").reset_index()\n",
    "\n",
    "df_superstore_orders_and_returns_metrics"
   ]
  },
  {
   "cell_type": "markdown",
   "metadata": {},
   "source": [
    "##### Empilhar tabelas\n"
   ]
  },
  {
   "cell_type": "code",
   "execution_count": null,
   "metadata": {},
   "outputs": [],
   "source": [
    "_df1 = df_superstore_orders_and_returns_metrics.loc[df_superstore_orders_and_returns_metrics[\"Category\"] == \"Technology\"]\n",
    "_df1"
   ]
  },
  {
   "cell_type": "code",
   "execution_count": null,
   "metadata": {},
   "outputs": [],
   "source": [
    "_df2 = df_superstore_orders_and_returns_metrics.loc[df_superstore_orders_and_returns_metrics[\"Category\"] == \"Furniture\"]\n",
    "_df2"
   ]
  },
  {
   "cell_type": "code",
   "execution_count": null,
   "metadata": {},
   "outputs": [],
   "source": [
    "# https://pandas.pydata.org/docs/reference/api/pandas.concat.html\n",
    "df_concat_example = pd.concat([_df1, _df2])\n",
    "df_concat_example"
   ]
  },
  {
   "cell_type": "markdown",
   "metadata": {},
   "source": [
    "##### Tabela dinâmica\n"
   ]
  },
  {
   "cell_type": "code",
   "execution_count": null,
   "metadata": {},
   "outputs": [],
   "source": [
    "# https://pandas.pydata.org/docs/reference/api/pandas.DataFrame.groupby.html\n",
    "df_superstore_orders_category_region_profit = (\n",
    "    df_superstore_orders_and_returns.groupby(['Category', \"Region\"])\n",
    "    .agg({'Profit': 'sum',})\n",
    "    .sort_values(by='Profit', ascending=False)\n",
    ").reset_index()\n",
    "\n",
    "df_superstore_orders_category_region_profit"
   ]
  },
  {
   "cell_type": "code",
   "execution_count": null,
   "metadata": {},
   "outputs": [],
   "source": [
    "# https://pandas.pydata.org/docs/reference/api/pandas.pivot_table.html\n",
    "df_superstore_orders_category_region_profit.pivot_table(\n",
    "    index=\"Category\",\n",
    "    columns=\"Region\",\n",
    "    values=\"Profit\",\n",
    "    aggfunc=\"sum\"\n",
    ").reset_index()\n"
   ]
  },
  {
   "cell_type": "markdown",
   "metadata": {},
   "source": [
    "##### Funções de janela\n"
   ]
  },
  {
   "cell_type": "code",
   "execution_count": null,
   "metadata": {},
   "outputs": [],
   "source": [
    "# https://pandas.pydata.org/docs/reference/api/pandas.Series.rolling.html\n",
    "df_superstore_orders_and_returns[\"month\"] = df_superstore_orders_and_returns[\"Order Date\"].dt.month\n",
    "\n",
    "_df_rolling_window_example = (\n",
    "    df_superstore_orders_and_returns[[\"month\", \"Region\", \"Profit\"]]\n",
    "    .groupby([\"Region\", \"month\"])\n",
    "    .sum()\n",
    "    .sort_values(by=[\"Region\", \"month\"], ascending=True)\n",
    "    .reset_index()\n",
    ")\n",
    "\n",
    "_df_rolling_window_example[\"cumulated_profit\"] = (\n",
    "    _df_rolling_window_example.groupby([\"Region\"])[\"Profit\"]\n",
    "    .rolling(2, min_periods=1)\n",
    "    .sum()\n",
    "    .reset_index(drop=True)\n",
    ")\n",
    "\n",
    "_df_rolling_window_example.head(20)"
   ]
  },
  {
   "cell_type": "markdown",
   "metadata": {},
   "source": [
    "##### Exportar dados\n"
   ]
  },
  {
   "cell_type": "code",
   "execution_count": null,
   "metadata": {},
   "outputs": [],
   "source": [
    "df_superstore_orders_category_region_profit.to_csv(\n",
    "    \"output/superstore_orders_category_region_profit.csv\",\n",
    "    index=False,\n",
    "    sep=\",\"\n",
    ")\n",
    "\n",
    "df_superstore_orders_category_region_profit.to_excel(\n",
    "    \"output/superstore_orders_category_region_profit.xlsx\",\n",
    "    index=False,\n",
    ")\n",
    "\n",
    "df_superstore_orders_category_region_profit.to_parquet(\n",
    "    \"output/superstore_orders_category_region_profit.parquet\",\n",
    "    index=False,\n",
    ")"
   ]
  },
  {
   "cell_type": "markdown",
   "metadata": {},
   "source": [
    "##### Gráficos\n"
   ]
  },
  {
   "cell_type": "code",
   "execution_count": null,
   "metadata": {},
   "outputs": [],
   "source": [
    "# https://plotly.com/python/getting-started/\n",
    "# https://pandas.pydata.org/docs/reference/api/pandas.DataFrame.groupby.html\n",
    "df_superstore_orders_and_returns_metrics = (\n",
    "    df_superstore_orders_and_returns.groupby(['Category'])\n",
    "    .agg({'Profit': 'sum', 'Sales': 'sum', 'Quantity': 'sum', 'Discount': 'sum',})\n",
    "    .sort_values(by='Profit', ascending=False)\n",
    ").reset_index()\n",
    "\n",
    "df_superstore_orders_and_returns_metrics"
   ]
  },
  {
   "cell_type": "code",
   "execution_count": null,
   "metadata": {},
   "outputs": [],
   "source": [
    "# https://pandas.pydata.org/docs/reference/api/pandas.melt.html\n",
    "df_superstore_orders_and_returns_metrics_chart_data = df_superstore_orders_and_returns_metrics.melt(\n",
    "    id_vars=[\"Category\"],\n",
    "    value_vars=[\"Profit\", \"Sales\", \"Quantity\", \"Discount\"],\n",
    "    var_name=\"metric\",\n",
    "    value_name=\"value\"\n",
    ")\n",
    "\n",
    "df_superstore_orders_and_returns_metrics_chart_data"
   ]
  },
  {
   "cell_type": "code",
   "execution_count": null,
   "metadata": {},
   "outputs": [],
   "source": [
    "fig = px.bar(\n",
    "    df_superstore_orders_and_returns_metrics_chart_data,\n",
    "    x=\"Category\",\n",
    "    y=\"value\",\n",
    "    color=\"metric\",\n",
    "    text=\"value\",\n",
    "    title=\"Profit by Category\",\n",
    "    hover_data={'value':':.2f'},\n",
    "    template=\"seaborn\"\n",
    ")\n",
    "\n",
    "fig.update_traces(texttemplate='%{text:.2s}', textposition='outside')\n",
    "\n",
    "fig.update_layout(\n",
    "    margin=dict(l=20, r=20, t=60, b=20),\n",
    ")\n",
    "\n",
    "fig.show()\n"
   ]
  },
  {
   "cell_type": "code",
   "execution_count": null,
   "metadata": {},
   "outputs": [],
   "source": [
    "# https://plotly.com/python/line-charts/\n",
    "df_superstore_orders_and_returns[\"month\"] = df_superstore_orders_and_returns[\"Order Date\"].dt.month\n",
    "\n",
    "_df_superstore_profit_regions_month = (\n",
    "    df_superstore_orders_and_returns[[\"month\", \"Region\", \"Profit\"]]\n",
    "    .groupby([\"Region\", \"month\"])\n",
    "    .sum()\n",
    "    .sort_values(by=[\"Region\", \"month\"], ascending=True)\n",
    "    .reset_index()\n",
    ")\n",
    "\n",
    "fig = px.line(\n",
    "    _df_superstore_profit_regions_month,\n",
    "    x=\"month\",\n",
    "    y=\"Profit\",\n",
    "    color=\"Region\",\n",
    "    title=\"Profit by Region\",\n",
    "    template=\"seaborn\",\n",
    "    text=\"Profit\",\n",
    ")\n",
    "\n",
    "fig.update_traces(texttemplate='%{text:.2s}', textposition='top center')\n",
    "\n",
    "fig.update_layout(\n",
    "    margin=dict(l=20, r=20, t=60, b=20),\n",
    ")\n",
    "\n",
    "fig.show()"
   ]
  },
  {
   "cell_type": "markdown",
   "metadata": {},
   "source": [
    "#### DuckDB\n"
   ]
  },
  {
   "cell_type": "markdown",
   "metadata": {},
   "source": [
    "##### Exploração\n"
   ]
  },
  {
   "cell_type": "code",
   "execution_count": null,
   "metadata": {},
   "outputs": [],
   "source": [
    "%%sql\n",
    "SELECT COUNT(*) FROM superstore_orders;"
   ]
  },
  {
   "cell_type": "code",
   "execution_count": null,
   "metadata": {},
   "outputs": [],
   "source": [
    "%%sql\n",
    "SELECT COUNT(*)\n",
    "  FROM INFORMATION_SCHEMA.COLUMNS\n",
    " WHERE table_name = 'superstore_orders'"
   ]
  },
  {
   "cell_type": "code",
   "execution_count": null,
   "metadata": {},
   "outputs": [],
   "source": [
    "%%sql\n",
    "DESCRIBE SELECT * FROM superstore_orders;"
   ]
  },
  {
   "cell_type": "code",
   "execution_count": null,
   "metadata": {},
   "outputs": [],
   "source": [
    "%%sql\n",
    "SELECT * FROM superstore_orders\n",
    "LIMIT 1;"
   ]
  },
  {
   "cell_type": "code",
   "execution_count": null,
   "metadata": {},
   "outputs": [],
   "source": [
    "%%sql\n",
    "SELECT DISTINCT Segment FROM superstore_orders"
   ]
  },
  {
   "cell_type": "code",
   "execution_count": null,
   "metadata": {},
   "outputs": [],
   "source": [
    "%%sql\n",
    "SELECT COUNT(DISTINCT Segment) AS nunique FROM superstore_orders"
   ]
  },
  {
   "cell_type": "code",
   "execution_count": null,
   "metadata": {},
   "outputs": [],
   "source": [
    "%%sql\n",
    "SELECT * FROM df_superstore_people\n",
    "LIMIT 1;"
   ]
  },
  {
   "cell_type": "code",
   "execution_count": null,
   "metadata": {},
   "outputs": [],
   "source": [
    "%%sql\n",
    "SELECT * FROM df_superstore_returns\n",
    "LIMIT 1;"
   ]
  },
  {
   "cell_type": "markdown",
   "metadata": {},
   "source": [
    "##### Juntar bases\n"
   ]
  },
  {
   "cell_type": "code",
   "execution_count": null,
   "metadata": {},
   "outputs": [],
   "source": [
    "%%sql\n",
    "DROP TABLE IF EXISTS superstore_orders_and_returns;\n",
    "CREATE TABLE superstore_orders_and_returns AS\n",
    "SELECT\n",
    "    orders.*,\n",
    "    returns.Returned\n",
    "FROM df_superstore_orders AS orders\n",
    "LEFT JOIN df_superstore_returns AS returns\n",
    "ON orders.\"Order ID\" = returns.\"Order ID\"\n",
    "LIMIT 1;\n",
    "\n",
    "SELECT * FROM superstore_orders_and_returns\n",
    "LIMIT 1;"
   ]
  },
  {
   "cell_type": "markdown",
   "metadata": {},
   "source": [
    "##### Selecionar colunas especificas\n"
   ]
  },
  {
   "cell_type": "code",
   "execution_count": null,
   "metadata": {},
   "outputs": [],
   "source": [
    "%%sql\n",
    "SELECT\n",
    "    \"Order ID\",\n",
    "    \"Order Date\",\n",
    "    \"Customer Name\",\n",
    "    \"Segment\",\n",
    "    \"Product ID\",\n",
    "    \"Product Name\",\n",
    "    \"Quantity\",\n",
    "    \"Sales\",\n",
    "    \"Profit\",\n",
    "    \"Returned\"\n",
    "FROM df_superstore_orders_and_returns\n",
    "LIMIT 1;"
   ]
  },
  {
   "cell_type": "markdown",
   "metadata": {},
   "source": [
    "##### Filtrar\n"
   ]
  },
  {
   "cell_type": "code",
   "execution_count": null,
   "metadata": {},
   "outputs": [],
   "source": [
    "%%sql\n",
    "SELECT\n",
    "    \"Order ID\",\n",
    "    \"Order Date\",\n",
    "    \"Customer Name\",\n",
    "    \"Segment\",\n",
    "    \"Product ID\",\n",
    "    \"Product Name\",\n",
    "    \"Quantity\",\n",
    "    \"Sales\",\n",
    "    \"Profit\",\n",
    "    \"Returned\"\n",
    "FROM df_superstore_orders_and_returns\n",
    "WHERE Profit > 3000 AND Region = 'South';"
   ]
  },
  {
   "cell_type": "markdown",
   "metadata": {},
   "source": [
    "##### Condicionais\n"
   ]
  },
  {
   "cell_type": "code",
   "execution_count": null,
   "metadata": {},
   "outputs": [],
   "source": [
    "%%sql\n",
    "SELECT\n",
    "    \"Order ID\",\n",
    "    \"Order Date\",\n",
    "    \"Customer Name\",\n",
    "    \"Segment\",\n",
    "    \"Product ID\",\n",
    "    \"Product Name\",\n",
    "    \"Quantity\",\n",
    "    \"Sales\",\n",
    "    \"Profit\",\n",
    "    CASE\n",
    "        WHEN Profit > 3000 AND Region = 'South'THEN 'Yes'\n",
    "        ELSE Returned\n",
    "    END AS Returned\n",
    "FROM df_superstore_orders_and_returns\n",
    "WHERE Profit > 3000 AND Region = 'South';"
   ]
  },
  {
   "cell_type": "markdown",
   "metadata": {},
   "source": [
    "##### Agrupar por categoria\n"
   ]
  },
  {
   "cell_type": "code",
   "execution_count": null,
   "metadata": {},
   "outputs": [],
   "source": [
    "%%sql\n",
    "DROP TABLE IF EXISTS superstore_orders_and_returns_metrics;\n",
    "CREATE TABLE superstore_orders_and_returns_metrics AS\n",
    "SELECT\n",
    "    Category,\n",
    "    SUM(Profit) AS Profit,\n",
    "    SUM(Sales) AS Sales,\n",
    "    SUM(Quantity) AS Quantity,\n",
    "    SUM(Discount) AS Discount\n",
    "FROM df_superstore_orders_and_returns\n",
    "GROUP BY Category;\n",
    "\n",
    "SELECT * FROM superstore_orders_and_returns_metrics;"
   ]
  },
  {
   "cell_type": "markdown",
   "metadata": {},
   "source": [
    "##### Empilhar tabelas\n"
   ]
  },
  {
   "cell_type": "code",
   "execution_count": null,
   "metadata": {},
   "outputs": [],
   "source": [
    "%%sql\n",
    "DROP TABLE IF EXISTS tbl_1;\n",
    "CREATE TABLE tbl_1 AS\n",
    "SELECT * FROM superstore_orders_and_returns_metrics\n",
    "WHERE Category = 'Technology';\n",
    "\n",
    "DROP TABLE IF EXISTS tbl_2;\n",
    "CREATE TABLE tbl_2 AS\n",
    "SELECT * FROM superstore_orders_and_returns_metrics\n",
    "WHERE Category = 'Furniture';\n"
   ]
  },
  {
   "cell_type": "code",
   "execution_count": null,
   "metadata": {},
   "outputs": [],
   "source": [
    "%%sql\n",
    "SELECT * FROM tbl_1\n",
    "UNION\n",
    "SELECT * FROM tbl_2;"
   ]
  },
  {
   "cell_type": "markdown",
   "metadata": {},
   "source": [
    "##### Tabela dinâmica\n"
   ]
  },
  {
   "cell_type": "markdown",
   "metadata": {},
   "source": [
    "##### Funções de janela\n"
   ]
  },
  {
   "cell_type": "markdown",
   "metadata": {},
   "source": [
    "##### Exportar dados\n"
   ]
  },
  {
   "cell_type": "markdown",
   "metadata": {},
   "source": [
    "##### CTE (Common Table Expressions)\n"
   ]
  },
  {
   "cell_type": "markdown",
   "metadata": {},
   "source": [
    "## Extra\n",
    "\n",
    "- https://duckdblabs.github.io/db-benchmark/\n",
    "- Ao lidar com caminhos de arquivos em sistemas operacionais Windows, é necessário utilizar duas barras invertidas (\\\\) ou uma barra invertida (/) para separar os diretórios. Ex: `C:\\\\Users\\\\user\\\\Documents\\\\dados\\\\`\n",
    "- Para ler arquivos com encoding diferente do padrão, é necessário especificar o encoding. Ex: `pd.read_csv('arquivo.csv', encoding='latin1')`, `pd.read_excel('arquivo.xls', encoding='latin1')`\n",
    "- Formatos de arquivo como csv e parquet são mais rápidos para ler e escrever do que Excel.\n"
   ]
  }
 ],
 "metadata": {
  "kernelspec": {
   "display_name": "venv",
   "language": "python",
   "name": "python3"
  },
  "language_info": {
   "codemirror_mode": {
    "name": "ipython",
    "version": 3
   },
   "file_extension": ".py",
   "mimetype": "text/x-python",
   "name": "python",
   "nbconvert_exporter": "python",
   "pygments_lexer": "ipython3",
   "version": "3.9.2"
  }
 },
 "nbformat": 4,
 "nbformat_minor": 2
}
